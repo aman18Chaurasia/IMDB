{
 "cells": [
  {
   "cell_type": "code",
   "execution_count": 3,
   "metadata": {},
   "outputs": [],
   "source": [
    "# Step 1: Import Libraries and Load the Model\n",
    "import numpy as np\n",
    "import tensorflow as tf\n",
    "from tensorflow.keras.datasets import imdb\n",
    "from tensorflow.keras.preprocessing import sequence\n",
    "from tensorflow.keras.models import load_model"
   ]
  },
  {
   "cell_type": "code",
   "execution_count": 4,
   "metadata": {},
   "outputs": [],
   "source": [
    "\n",
    "# Load the IMDB dataset word index\n",
    "word_index = imdb.get_word_index()\n",
    "reverse_word_index = {value: key for key, value in word_index.items()}"
   ]
  },
  {
   "cell_type": "code",
   "execution_count": 6,
   "metadata": {},
   "outputs": [
    {
     "name": "stderr",
     "output_type": "stream",
     "text": [
      "WARNING:absl:Compiled the loaded model, but the compiled metrics have yet to be built. `model.compile_metrics` will be empty until you train or evaluate the model.\n"
     ]
    },
    {
     "data": {
      "text/html": [
       "<pre style=\"white-space:pre;overflow-x:auto;line-height:normal;font-family:Menlo,'DejaVu Sans Mono',consolas,'Courier New',monospace\"><span style=\"font-weight: bold\">Model: \"sequential_2\"</span>\n",
       "</pre>\n"
      ],
      "text/plain": [
       "\u001b[1mModel: \"sequential_2\"\u001b[0m\n"
      ]
     },
     "metadata": {},
     "output_type": "display_data"
    },
    {
     "data": {
      "text/html": [
       "<pre style=\"white-space:pre;overflow-x:auto;line-height:normal;font-family:Menlo,'DejaVu Sans Mono',consolas,'Courier New',monospace\">┏━━━━━━━━━━━━━━━━━━━━━━━━━━━━━━━━━┳━━━━━━━━━━━━━━━━━━━━━━━━┳━━━━━━━━━━━━━━━┓\n",
       "┃<span style=\"font-weight: bold\"> Layer (type)                    </span>┃<span style=\"font-weight: bold\"> Output Shape           </span>┃<span style=\"font-weight: bold\">       Param # </span>┃\n",
       "┡━━━━━━━━━━━━━━━━━━━━━━━━━━━━━━━━━╇━━━━━━━━━━━━━━━━━━━━━━━━╇━━━━━━━━━━━━━━━┩\n",
       "│ embedding_2 (<span style=\"color: #0087ff; text-decoration-color: #0087ff\">Embedding</span>)         │ (<span style=\"color: #00af00; text-decoration-color: #00af00\">32</span>, <span style=\"color: #00af00; text-decoration-color: #00af00\">500</span>, <span style=\"color: #00af00; text-decoration-color: #00af00\">128</span>)         │     <span style=\"color: #00af00; text-decoration-color: #00af00\">1,280,000</span> │\n",
       "├─────────────────────────────────┼────────────────────────┼───────────────┤\n",
       "│ simple_rnn_2 (<span style=\"color: #0087ff; text-decoration-color: #0087ff\">SimpleRNN</span>)        │ (<span style=\"color: #00af00; text-decoration-color: #00af00\">32</span>, <span style=\"color: #00af00; text-decoration-color: #00af00\">128</span>)              │        <span style=\"color: #00af00; text-decoration-color: #00af00\">32,896</span> │\n",
       "├─────────────────────────────────┼────────────────────────┼───────────────┤\n",
       "│ dense_2 (<span style=\"color: #0087ff; text-decoration-color: #0087ff\">Dense</span>)                 │ (<span style=\"color: #00af00; text-decoration-color: #00af00\">32</span>, <span style=\"color: #00af00; text-decoration-color: #00af00\">1</span>)                │           <span style=\"color: #00af00; text-decoration-color: #00af00\">129</span> │\n",
       "└─────────────────────────────────┴────────────────────────┴───────────────┘\n",
       "</pre>\n"
      ],
      "text/plain": [
       "┏━━━━━━━━━━━━━━━━━━━━━━━━━━━━━━━━━┳━━━━━━━━━━━━━━━━━━━━━━━━┳━━━━━━━━━━━━━━━┓\n",
       "┃\u001b[1m \u001b[0m\u001b[1mLayer (type)                   \u001b[0m\u001b[1m \u001b[0m┃\u001b[1m \u001b[0m\u001b[1mOutput Shape          \u001b[0m\u001b[1m \u001b[0m┃\u001b[1m \u001b[0m\u001b[1m      Param #\u001b[0m\u001b[1m \u001b[0m┃\n",
       "┡━━━━━━━━━━━━━━━━━━━━━━━━━━━━━━━━━╇━━━━━━━━━━━━━━━━━━━━━━━━╇━━━━━━━━━━━━━━━┩\n",
       "│ embedding_2 (\u001b[38;5;33mEmbedding\u001b[0m)         │ (\u001b[38;5;34m32\u001b[0m, \u001b[38;5;34m500\u001b[0m, \u001b[38;5;34m128\u001b[0m)         │     \u001b[38;5;34m1,280,000\u001b[0m │\n",
       "├─────────────────────────────────┼────────────────────────┼───────────────┤\n",
       "│ simple_rnn_2 (\u001b[38;5;33mSimpleRNN\u001b[0m)        │ (\u001b[38;5;34m32\u001b[0m, \u001b[38;5;34m128\u001b[0m)              │        \u001b[38;5;34m32,896\u001b[0m │\n",
       "├─────────────────────────────────┼────────────────────────┼───────────────┤\n",
       "│ dense_2 (\u001b[38;5;33mDense\u001b[0m)                 │ (\u001b[38;5;34m32\u001b[0m, \u001b[38;5;34m1\u001b[0m)                │           \u001b[38;5;34m129\u001b[0m │\n",
       "└─────────────────────────────────┴────────────────────────┴───────────────┘\n"
      ]
     },
     "metadata": {},
     "output_type": "display_data"
    },
    {
     "data": {
      "text/html": [
       "<pre style=\"white-space:pre;overflow-x:auto;line-height:normal;font-family:Menlo,'DejaVu Sans Mono',consolas,'Courier New',monospace\"><span style=\"font-weight: bold\"> Total params: </span><span style=\"color: #00af00; text-decoration-color: #00af00\">1,313,027</span> (5.01 MB)\n",
       "</pre>\n"
      ],
      "text/plain": [
       "\u001b[1m Total params: \u001b[0m\u001b[38;5;34m1,313,027\u001b[0m (5.01 MB)\n"
      ]
     },
     "metadata": {},
     "output_type": "display_data"
    },
    {
     "data": {
      "text/html": [
       "<pre style=\"white-space:pre;overflow-x:auto;line-height:normal;font-family:Menlo,'DejaVu Sans Mono',consolas,'Courier New',monospace\"><span style=\"font-weight: bold\"> Trainable params: </span><span style=\"color: #00af00; text-decoration-color: #00af00\">1,313,025</span> (5.01 MB)\n",
       "</pre>\n"
      ],
      "text/plain": [
       "\u001b[1m Trainable params: \u001b[0m\u001b[38;5;34m1,313,025\u001b[0m (5.01 MB)\n"
      ]
     },
     "metadata": {},
     "output_type": "display_data"
    },
    {
     "data": {
      "text/html": [
       "<pre style=\"white-space:pre;overflow-x:auto;line-height:normal;font-family:Menlo,'DejaVu Sans Mono',consolas,'Courier New',monospace\"><span style=\"font-weight: bold\"> Non-trainable params: </span><span style=\"color: #00af00; text-decoration-color: #00af00\">0</span> (0.00 B)\n",
       "</pre>\n"
      ],
      "text/plain": [
       "\u001b[1m Non-trainable params: \u001b[0m\u001b[38;5;34m0\u001b[0m (0.00 B)\n"
      ]
     },
     "metadata": {},
     "output_type": "display_data"
    },
    {
     "data": {
      "text/html": [
       "<pre style=\"white-space:pre;overflow-x:auto;line-height:normal;font-family:Menlo,'DejaVu Sans Mono',consolas,'Courier New',monospace\"><span style=\"font-weight: bold\"> Optimizer params: </span><span style=\"color: #00af00; text-decoration-color: #00af00\">2</span> (12.00 B)\n",
       "</pre>\n"
      ],
      "text/plain": [
       "\u001b[1m Optimizer params: \u001b[0m\u001b[38;5;34m2\u001b[0m (12.00 B)\n"
      ]
     },
     "metadata": {},
     "output_type": "display_data"
    }
   ],
   "source": [
    "# Load the pre-trained model with ReLU activation\n",
    "model = load_model('simple_rnn_imdb.h5')\n",
    "model.summary()"
   ]
  },
  {
   "cell_type": "code",
   "execution_count": 7,
   "metadata": {},
   "outputs": [
    {
     "data": {
      "text/plain": [
       "[array([[ 0.83376443, -0.5238253 ,  0.73014057, ..., -0.88469654,\n",
       "         -0.19320646, -0.35859433],\n",
       "        [ 0.04592413,  0.07295659,  0.03978163, ...,  0.01928211,\n",
       "          0.00974797, -0.03222561],\n",
       "        [ 0.06459664, -0.17848349,  0.24196693, ...,  0.07044449,\n",
       "          0.01716527,  0.09894231],\n",
       "        ...,\n",
       "        [-0.10452554,  0.04620908, -0.00336879, ...,  0.02065914,\n",
       "         -0.04522984,  0.02876014],\n",
       "        [ 0.03039423,  0.1084546 ,  0.09757193, ..., -0.07333943,\n",
       "          0.00584026, -0.10391872],\n",
       "        [-0.17632107, -0.09284803, -0.03033742, ...,  0.09352451,\n",
       "         -0.18042889, -0.17038916]], dtype=float32),\n",
       " array([[ 0.04598448, -0.12545702,  0.12083805, ..., -0.06589706,\n",
       "          0.10518283, -0.00898886],\n",
       "        [ 0.19251029, -0.04479672, -0.06012614, ..., -0.1490391 ,\n",
       "          0.10788949,  0.03917754],\n",
       "        [-0.20806997, -0.14080742, -0.06149808, ...,  0.08405264,\n",
       "          0.07479685,  0.02885109],\n",
       "        ...,\n",
       "        [-0.07074507,  0.06429901,  0.04555867, ..., -0.02254559,\n",
       "         -0.00857391, -0.0003436 ],\n",
       "        [-0.09680781, -0.13353322, -0.05418679, ..., -0.15204531,\n",
       "          0.17147902, -0.04136861],\n",
       "        [ 0.07400868, -0.09684165, -0.11604141, ..., -0.13812834,\n",
       "         -0.11227124, -0.05009094]], dtype=float32),\n",
       " array([[-0.13663012, -0.10174587,  0.0196883 , ..., -0.1419124 ,\n",
       "         -0.15725198,  0.03733917],\n",
       "        [ 0.02288252, -0.16126409,  0.03632925, ..., -0.07773465,\n",
       "          0.07612558,  0.00148223],\n",
       "        [-0.00106775,  0.12114104, -0.04326757, ...,  0.05503673,\n",
       "          0.03982304, -0.10849242],\n",
       "        ...,\n",
       "        [-0.07313892, -0.04513483, -0.10644646, ...,  0.04136911,\n",
       "          0.06895058,  0.07720072],\n",
       "        [-0.09257776, -0.0144358 , -0.05554817, ...,  0.0342608 ,\n",
       "         -0.10691832,  0.04615481],\n",
       "        [ 0.01460835,  0.04987719, -0.01546751, ..., -0.11443317,\n",
       "          0.12887155, -0.02976141]], dtype=float32),\n",
       " array([ 8.78914632e-03, -9.71750414e-04,  7.57231750e-03,  1.33907013e-02,\n",
       "        -5.03978990e-02,  4.14588396e-03, -2.04652958e-02, -7.83153027e-02,\n",
       "        -3.37632485e-02, -1.61427166e-02, -6.60866573e-02, -2.86338162e-02,\n",
       "         1.44133950e-02,  2.71988008e-02,  2.55050752e-02, -1.85726695e-02,\n",
       "         7.72189675e-03, -5.23949321e-03, -4.72744592e-02,  1.81246679e-02,\n",
       "        -4.98755611e-02, -3.44490893e-02, -8.39139894e-02, -1.11455051e-02,\n",
       "         2.72826152e-03, -3.15633081e-02, -1.49494177e-02, -3.66961397e-02,\n",
       "         4.50611580e-03,  2.90657636e-02, -1.80177740e-03,  4.61742133e-02,\n",
       "        -4.38581556e-02,  2.29108483e-02,  4.67382111e-02,  2.58193724e-02,\n",
       "        -8.98680836e-02, -1.68899670e-02, -3.25723737e-02,  1.11347623e-02,\n",
       "         2.98303533e-02,  7.89332166e-02, -2.08361782e-02, -4.25374918e-02,\n",
       "        -9.07678064e-03,  2.44820490e-02, -9.67313815e-03, -4.33725826e-02,\n",
       "         5.30199520e-02,  4.87261871e-03, -2.69693229e-02,  6.70447713e-03,\n",
       "        -5.57538914e-03, -4.81415987e-02, -5.12929372e-02, -1.31933242e-02,\n",
       "        -6.96060481e-03, -1.71944816e-02,  8.52869882e-04,  1.74543243e-02,\n",
       "         6.16590696e-05,  1.17136212e-02,  3.03181559e-02, -3.00410464e-02,\n",
       "         1.21210460e-02, -5.86407557e-02,  1.34384790e-02,  1.26528805e-02,\n",
       "        -2.13260222e-02, -4.11770381e-02, -6.28564274e-04, -3.21525671e-02,\n",
       "        -4.60803648e-03, -1.27502205e-02, -1.32361744e-02, -1.18675746e-03,\n",
       "         3.25825252e-02, -4.77643982e-02,  4.65037003e-02,  8.02084245e-03,\n",
       "        -2.26596128e-02,  1.05730109e-02,  5.19310199e-02,  1.14272339e-02,\n",
       "         1.03772990e-03,  4.33939248e-02, -2.04381216e-02,  1.89039484e-02,\n",
       "         3.91263366e-02,  1.47920707e-03, -1.61562506e-02,  8.74426216e-03,\n",
       "        -3.01409606e-03,  1.21432617e-02, -5.01266643e-02, -2.27753911e-03,\n",
       "        -8.22781697e-02,  8.43613874e-03,  2.28041094e-02, -3.10316626e-02,\n",
       "        -2.34617200e-02, -6.32825941e-02, -2.86270455e-02, -7.85653945e-03,\n",
       "         5.27411103e-02, -1.06222525e-01,  9.23855323e-03,  7.61284120e-03,\n",
       "         4.26020510e-02,  1.68178529e-02,  3.38655375e-02,  5.33384196e-02,\n",
       "        -4.62112874e-02,  1.85321961e-02,  2.50980724e-02,  4.85146083e-02,\n",
       "         1.74565297e-02,  1.53443217e-02,  1.52392257e-02, -5.66266365e-02,\n",
       "        -2.24383678e-02, -8.40924829e-02, -3.85133736e-02,  2.14173608e-02,\n",
       "        -5.32579273e-02, -1.53004201e-02,  1.33950226e-02, -2.47477870e-02],\n",
       "       dtype=float32),\n",
       " array([[ 0.18338253],\n",
       "        [-0.20629527],\n",
       "        [-0.08114882],\n",
       "        [ 0.14880826],\n",
       "        [-0.09203401],\n",
       "        [-0.05768004],\n",
       "        [-0.73024404],\n",
       "        [ 0.32529587],\n",
       "        [ 0.03649329],\n",
       "        [-0.15708275],\n",
       "        [ 0.04923918],\n",
       "        [-0.38227746],\n",
       "        [ 0.01789577],\n",
       "        [ 0.10614265],\n",
       "        [ 0.21645606],\n",
       "        [ 0.28782555],\n",
       "        [-0.18947658],\n",
       "        [-0.29590395],\n",
       "        [-0.06097539],\n",
       "        [ 0.04502136],\n",
       "        [ 0.07390148],\n",
       "        [ 0.04257016],\n",
       "        [ 0.11250679],\n",
       "        [-0.00982788],\n",
       "        [ 0.19069493],\n",
       "        [ 0.00854567],\n",
       "        [ 0.1571337 ],\n",
       "        [ 0.38143018],\n",
       "        [ 0.1596391 ],\n",
       "        [ 0.10419382],\n",
       "        [-0.257579  ],\n",
       "        [-0.14732061],\n",
       "        [-0.39458236],\n",
       "        [-0.14096263],\n",
       "        [ 0.0525045 ],\n",
       "        [-0.24376793],\n",
       "        [ 0.06246531],\n",
       "        [ 0.07203749],\n",
       "        [-0.44741243],\n",
       "        [ 0.12649266],\n",
       "        [-0.15936628],\n",
       "        [-0.01176747],\n",
       "        [-0.33556512],\n",
       "        [ 0.64047945],\n",
       "        [ 0.73451144],\n",
       "        [-0.11249683],\n",
       "        [ 0.27760145],\n",
       "        [-0.11983287],\n",
       "        [ 0.12153518],\n",
       "        [ 0.3578562 ],\n",
       "        [ 0.19398254],\n",
       "        [ 0.12597816],\n",
       "        [ 0.57173026],\n",
       "        [-0.17319198],\n",
       "        [-0.0143201 ],\n",
       "        [-0.18309209],\n",
       "        [ 0.10416595],\n",
       "        [ 0.14829949],\n",
       "        [ 0.17092364],\n",
       "        [ 0.00447513],\n",
       "        [ 0.2235465 ],\n",
       "        [ 0.24360244],\n",
       "        [-0.16352573],\n",
       "        [-0.16995813],\n",
       "        [ 0.36647633],\n",
       "        [ 0.03450171],\n",
       "        [-0.10458225],\n",
       "        [-0.12293629],\n",
       "        [-0.19133109],\n",
       "        [-0.18642248],\n",
       "        [-0.512649  ],\n",
       "        [ 0.23146184],\n",
       "        [ 0.08083774],\n",
       "        [-0.22364865],\n",
       "        [-0.1732441 ],\n",
       "        [ 0.16074197],\n",
       "        [-0.03225795],\n",
       "        [ 0.05637856],\n",
       "        [ 0.24193217],\n",
       "        [-0.10819144],\n",
       "        [ 0.29053363],\n",
       "        [ 0.11543992],\n",
       "        [-0.29611373],\n",
       "        [-0.25214636],\n",
       "        [-0.49153388],\n",
       "        [ 0.00920924],\n",
       "        [ 0.04726503],\n",
       "        [ 0.13825147],\n",
       "        [ 0.48415223],\n",
       "        [ 0.08241811],\n",
       "        [ 0.05198614],\n",
       "        [ 0.03904137],\n",
       "        [-0.15481186],\n",
       "        [-0.09534844],\n",
       "        [ 0.09411435],\n",
       "        [-0.16360985],\n",
       "        [-0.08883603],\n",
       "        [-0.24303123],\n",
       "        [ 0.13403921],\n",
       "        [ 0.28718734],\n",
       "        [ 0.01287882],\n",
       "        [-0.04156138],\n",
       "        [ 0.27339774],\n",
       "        [-0.1642456 ],\n",
       "        [ 0.24776527],\n",
       "        [ 0.08658606],\n",
       "        [ 0.02116488],\n",
       "        [-0.15364309],\n",
       "        [ 0.09359829],\n",
       "        [ 1.1047959 ],\n",
       "        [ 0.16448884],\n",
       "        [-0.36151308],\n",
       "        [-1.044011  ],\n",
       "        [-0.30279416],\n",
       "        [-0.2412155 ],\n",
       "        [ 0.17973511],\n",
       "        [ 0.43709704],\n",
       "        [ 0.2967105 ],\n",
       "        [ 0.18597622],\n",
       "        [ 0.17557922],\n",
       "        [-0.26549286],\n",
       "        [ 0.00756844],\n",
       "        [ 0.17271093],\n",
       "        [-0.1756575 ],\n",
       "        [ 0.09806267],\n",
       "        [-0.24211553],\n",
       "        [ 0.1842249 ],\n",
       "        [-0.10471193]], dtype=float32),\n",
       " array([1.1456391], dtype=float32)]"
      ]
     },
     "execution_count": 7,
     "metadata": {},
     "output_type": "execute_result"
    }
   ],
   "source": [
    "model.get_weights()"
   ]
  },
  {
   "cell_type": "code",
   "execution_count": 9,
   "metadata": {},
   "outputs": [],
   "source": [
    "# Step 2: Helper Functions\n",
    "# Function to decode reviews\n",
    "def decode_review(encoded_review):\n",
    "    return ' '.join([reverse_word_index.get(i - 3, '?') for i in encoded_review])\n",
    "\n",
    "# Function to preprocess user input\n",
    "def preprocess_text(text):\n",
    "    words = text.lower().split()\n",
    "    encoded_review = [word_index.get(word, 2) + 3 for word in words]\n",
    "    padded_review = sequence.pad_sequences([encoded_review], maxlen=500)\n",
    "    return padded_review"
   ]
  },
  {
   "cell_type": "code",
   "execution_count": 11,
   "metadata": {},
   "outputs": [],
   "source": [
    "### Prediction  function\n",
    "\n",
    "def predict_sentiment(review):\n",
    "    preprocessed_input=preprocess_text(review)\n",
    "\n",
    "    prediction=model.predict(preprocessed_input)\n",
    "\n",
    "    sentiment = 'Positive' if prediction[0][0] > 0.5 else 'Negative'\n",
    "    \n",
    "    return sentiment, prediction[0][0]\n",
    "\n"
   ]
  },
  {
   "cell_type": "code",
   "execution_count": 15,
   "metadata": {},
   "outputs": [
    {
     "name": "stdout",
     "output_type": "stream",
     "text": [
      "\u001b[1m1/1\u001b[0m \u001b[32m━━━━━━━━━━━━━━━━━━━━\u001b[0m\u001b[37m\u001b[0m \u001b[1m0s\u001b[0m 43ms/step\n",
      "Review: This movie was fantastic! The acting was great and the plot was thrilling.\n",
      "Sentiment: Positive\n",
      "Prediction Score: 0.5995365381240845\n"
     ]
    }
   ],
   "source": [
    "# Step 4: User Input and Prediction\n",
    "# Example review for prediction\n",
    "example_review = \"This movie was fantastic! The acting was great and the plot was thrilling.\"\n",
    "\n",
    "sentiment,score=predict_sentiment(example_review)\n",
    "\n",
    "print(f'Review: {example_review}')\n",
    "print(f'Sentiment: {sentiment}')\n",
    "print(f'Prediction Score: {score}')"
   ]
  },
  {
   "cell_type": "code",
   "execution_count": null,
   "metadata": {},
   "outputs": [],
   "source": []
  },
  {
   "cell_type": "code",
   "execution_count": null,
   "metadata": {},
   "outputs": [],
   "source": []
  },
  {
   "cell_type": "code",
   "execution_count": null,
   "metadata": {},
   "outputs": [],
   "source": []
  },
  {
   "cell_type": "code",
   "execution_count": null,
   "metadata": {},
   "outputs": [],
   "source": []
  }
 ],
 "metadata": {
  "kernelspec": {
   "display_name": "Python 3",
   "language": "python",
   "name": "python3"
  },
  "language_info": {
   "codemirror_mode": {
    "name": "ipython",
    "version": 3
   },
   "file_extension": ".py",
   "mimetype": "text/x-python",
   "name": "python",
   "nbconvert_exporter": "python",
   "pygments_lexer": "ipython3",
   "version": "3.12.9"
  }
 },
 "nbformat": 4,
 "nbformat_minor": 2
}
